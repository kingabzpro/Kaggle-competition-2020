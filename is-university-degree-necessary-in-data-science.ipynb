{
 "cells": [
  {
   "cell_type": "code",
   "execution_count": null,
   "metadata": {
    "_kg_hide-input": true
   },
   "outputs": [],
   "source": [
    "import numpy as np \n",
    "\n",
    "import pandas as pd \n",
    "pd.set_option('display.max_columns', None)\n",
    "import seaborn as sns\n",
    "\n",
    "\n",
    "import matplotlib.pyplot as plt\n",
    "\n",
    "\n",
    "import warnings\n",
    "warnings.simplefilter(action='ignore')\n"
   ]
  },
  {
   "cell_type": "code",
   "execution_count": null,
   "metadata": {
    "_kg_hide-input": true
   },
   "outputs": [],
   "source": [
    "Kaggle=pd.read_csv(\"Data/kaggle_survey_2020_responses.csv\")\n",
    "Kaggle.drop([0],axis=0,inplace=True)\n",
    "Kaggle['time'] = Kaggle['Time from Start to Finish (seconds)'].astype(int)\n",
    "Kaggle.drop(\"Time from Start to Finish (seconds)\",axis=1,inplace=True)\n",
    "Kaggle['time'] = pd.to_datetime(Kaggle['time'], unit='s').dt.time\n",
    "first_col=Kaggle.pop('time')\n",
    "Kaggle.insert(0, 'time', first_col)\n",
    "Kaggle.set_index('time',inplace=True)"
   ]
  },
  {
   "cell_type": "code",
   "execution_count": null,
   "metadata": {
    "_kg_hide-input": true
   },
   "outputs": [],
   "source": [
    "Kaggle_NDegree=Kaggle[(Kaggle.Q4 != \"Doctoral degree\") &\n",
    "              (Kaggle.Q4 != \"Master’s degree\") &\n",
    "              (Kaggle.Q4 != \"Bachelor’s degree\")&\n",
    "              (Kaggle.Q4 != \"Professional degree\")]\n",
    "Kaggle_WDegree=Kaggle[(Kaggle.Q4 == \"Doctoral degree\") |\n",
    "              (Kaggle.Q4 == \"Master’s degree\") |\n",
    "              (Kaggle.Q4 == \"Bachelor’s degree\")|\n",
    "              (Kaggle.Q4 == \"Professional degree\")]\n",
    "Kaggle_WDegree.head(3)"
   ]
  },
  {
   "cell_type": "code",
   "execution_count": null,
   "metadata": {
    "_kg_hide-input": true
   },
   "outputs": [],
   "source": [
    "f, axes = plt.subplots(1, 2,figsize=(15,7))\n",
    "sns.set_style(\"whitegrid\", {'axes.grid' : False})\n",
    "\n",
    "age=Kaggle_NDegree.Q1.value_counts().sort_values(ascending=False).to_frame()\n",
    "ax=sns.barplot(data=age,x=age.index,y='Q1',palette=\"Blues_d\",ax=axes[0])\n",
    "ax.set_title('Different type of Age Group in Survey',fontsize=14, fontweight='bold')\n",
    "ax.set_xlabel('Age Range')\n",
    "ax.set_ylabel('Number of Particpents')\n",
    "ax.set_xticklabels(ax.get_xticklabels(),rotation=90)\n",
    "for p in ax.patches:\n",
    "    ax.annotate(format(p.get_height(), '1.0f'), \n",
    "                   (p.get_x() + p.get_width() / 2., p.get_height()), \n",
    "                   ha = 'center', va = 'center', \n",
    "                   xytext = (0, 9), \n",
    "                   textcoords = 'offset points')\n",
    "for s in ['top', 'left', 'right', 'bottom']:\n",
    "    ax.spines[s].set_visible(False)\n",
    "\n",
    "sex=Kaggle_NDegree.Q2.value_counts().sort_values(ascending=True).to_frame()\n",
    "ax1=sns.barplot(data=sex,x=sex.index,y='Q2',palette=\"coolwarm\",ax=axes[1])\n",
    "ax1.set_title('Different type of Sex in Survey',fontsize=14, fontweight='bold')\n",
    "ax1.set_xlabel('Sex')\n",
    "ax1.set_ylabel('')\n",
    "ax1.set_xticklabels(ax1.get_xticklabels(),rotation=90);\n",
    "ax1.set_yticks([])\n",
    "for p in ax1.patches:\n",
    "    ax1.annotate(format(p.get_height(), '1.0f'), \n",
    "                   (p.get_x() + p.get_width() / 2., p.get_height()), \n",
    "                   ha = 'center', va = 'center', \n",
    "                   xytext = (0, 9), \n",
    "                   textcoords = 'offset points')\n",
    "for s in ['top', 'left', 'right', 'bottom']:\n",
    "    ax1.spines[s].set_visible(False)"
   ]
  },
  {
   "cell_type": "code",
   "execution_count": null,
   "metadata": {
    "_kg_hide-input": true
   },
   "outputs": [],
   "source": [
    "fig, ax = plt.subplots(1,1, figsize=(15,10))\n",
    "age_sex=Kaggle_NDegree.groupby(['Q1'])['Q2'].value_counts().unstack().sort_index()\n",
    "man=age_sex[\"Man\"].to_frame()\n",
    "woman=-age_sex[\"Woman\"].to_frame()\n",
    "\n",
    "ax=sns.barplot(data=man,x='Man',y=man.index,color=\"#006699\",label='Male')\n",
    "ax=sns.barplot(data=woman,x='Woman',y=woman.index,color=\"#ff3333\",label='Female')\n",
    "ax.set_xlim(-200, 600)\n",
    "\n",
    "  \n",
    "ax.set_xlabel('Number of Particepants')\n",
    "ax.set_ylabel('Age Group',fontsize=15)\n",
    "ax.set_title('Number of Male and Female Vs Age Group',fontsize=21, fontweight='bold')\n",
    "#annotate\n",
    "# for p in ax.patches:\n",
    "#      width = p.get_width()\n",
    "#      plt.text(5+p.get_width(), p.get_y()+0.55*p.get_height(),\n",
    "#              '{:1.0f}'.format(abs(width)),\n",
    "#               ha='center', va='center',rotation=90)\n",
    "\n",
    "ax.legend();"
   ]
  },
  {
   "cell_type": "code",
   "execution_count": null,
   "metadata": {
    "_kg_hide-input": true
   },
   "outputs": [],
   "source": [
    "fig, ax = plt.subplots(1,1, figsize=(15,10))\n",
    "XP=Kaggle_NDegree.Q5.value_counts().sort_values(ascending=False).to_frame()\n",
    "ax=sns.barplot(data=XP,x=XP.index,y='Q5',palette=\"viridis\")\n",
    "ax.set_title('Different type of Jobs in Survey',fontsize=14, fontweight='bold')\n",
    "\n",
    "ax.set_xlabel('Current role')\n",
    "ax.set_ylabel('Number of Particpents')\n",
    "ax.set_xticklabels(ax.get_xticklabels(),rotation=90)\n",
    "for p in ax.patches:\n",
    "    ax.annotate(format(p.get_height(), '1.0f'), \n",
    "                   (p.get_x() + p.get_width() / 2., p.get_height()), \n",
    "                   ha = 'center', va = 'center', \n",
    "                   xytext = (0, 9), \n",
    "                   textcoords = 'offset points')\n",
    "for s in ['top', 'left', 'right', 'bottom']:\n",
    "    ax.spines[s].set_visible(False)"
   ]
  },
  {
   "cell_type": "code",
   "execution_count": null,
   "metadata": {
    "_kg_hide-input": true
   },
   "outputs": [],
   "source": [
    "fig, ax = plt.subplots(1,1, figsize=(15,6))\n",
    "\n",
    "XP=Kaggle_NDegree.Q5.value_counts(normalize=True).sort_values(ascending=False).to_frame()\n",
    "XP1=Kaggle_WDegree.Q5.value_counts(normalize=True).sort_values(ascending=False).to_frame()\n",
    "ax=sns.barplot(data=XP,y='Q5',x=XP.index,color=\"#006699\",label='Without Degree')\n",
    "ax=sns.barplot(data=-XP1,y='Q5',x=XP1.index,color=\"#ff3333\",label='With Degree')\n",
    "\n",
    "ax.set_ylabel('')\n",
    "ax.set_xlabel('')\n",
    "ax.set_title('Participants With Degree and Without Degree',fontsize=21, fontweight='bold')\n",
    "ax.set_xticklabels(ax.get_xticklabels(),rotation=90)\n",
    "for s in ['top', 'left', 'right', 'bottom']:\n",
    "    ax.spines[s].set_visible(False)\n",
    "#annotate\n",
    "for p in ax.patches:\n",
    "    ax.annotate('{:.1f}%'.format(abs(100*p.get_height())), \n",
    "                   (p.get_x() + p.get_width() / 2.,p.get_height()), \n",
    "                   ha = 'center', va = 'center', \n",
    "                   xytext = (0,6), \n",
    "                   textcoords = 'offset points')\n",
    "ax.set_yticks([])    \n",
    "ax.legend(loc='lower right');"
   ]
  },
  {
   "cell_type": "code",
   "execution_count": null,
   "metadata": {
    "_kg_hide-input": true
   },
   "outputs": [],
   "source": [
    "fig, ax = plt.subplots(1,2, figsize=(10,5))\n",
    "K_heat = []\n",
    "for i in Kaggle_NDegree.Q6.value_counts().index.to_list():\n",
    "    K_heat.append(Kaggle_NDegree.Q5.loc[Kaggle_NDegree.Q6 == str(i)].value_counts().to_frame().rename(columns={'Q5':str(i)}))\n",
    "res_K_heat = pd.concat(K_heat, axis=1)\n",
    "K_heat_W = []\n",
    "for i in Kaggle_WDegree.Q6.value_counts().index.to_list():\n",
    "    K_heat_W.append(Kaggle_WDegree.Q5.loc[Kaggle_WDegree.Q6 == str(i)].value_counts().to_frame().rename(columns={'Q5':str(i)}))\n",
    "res_K_heat_W = pd.concat(K_heat_W, axis=1)\n",
    "\n",
    "\n",
    "ax0 = sns.heatmap(res_K_heat, linewidths=1.2, cbar=False, annot=True, fmt='g',cmap=sns.cubehelix_palette(as_cmap=True),ax=ax[0])\n",
    "ax1= sns.heatmap(res_K_heat_W, linewidths=1.2, cbar=False, annot=True, fmt='g',cmap=sns.cubehelix_palette(as_cmap=True),ax=ax[1])\n",
    "\n",
    "ax0.set_title('Participants without degree',fontsize=16, fontweight='bold')\n",
    "ax1.set_title('Participants with degree',fontsize=16, fontweight='bold')\n",
    "ax1.set_yticks([]);"
   ]
  },
  {
   "cell_type": "code",
   "execution_count": null,
   "metadata": {
    "_kg_hide-input": true
   },
   "outputs": [],
   "source": [
    "fig, ax = plt.subplots(1,1, figsize=(10,6))\n",
    "XP=Kaggle_NDegree.Q6.value_counts().sort_values(ascending=False).to_frame()\n",
    "ax=sns.barplot(data=XP,x=XP.index,y='Q6',palette=\"mako\")\n",
    "ax.set_title('Coding Experince',fontsize=21, fontweight='bold')\n",
    "\n",
    "ax.set_xlabel('')\n",
    "ax.set_ylabel('Number of Particpents',fontsize=16)\n",
    "ax.set_xticklabels(ax.get_xticklabels())\n",
    "for p in ax.patches:\n",
    "    ax.annotate(format(p.get_height(), '1.0f'), \n",
    "                   (p.get_x() + p.get_width() / 2., p.get_height()), \n",
    "                   ha = 'center', va = 'center', \n",
    "                   xytext = (0, 9), \n",
    "                   textcoords = 'offset points')\n",
    "for s in ['top', 'left', 'right', 'bottom']:\n",
    "    ax.spines[s].set_visible(False)"
   ]
  },
  {
   "cell_type": "code",
   "execution_count": null,
   "metadata": {
    "_kg_hide-input": true
   },
   "outputs": [],
   "source": [
    "MostXP=Kaggle_NDegree[(Kaggle_NDegree.Q6 != \"1-2 years\") &\n",
    "              (Kaggle_NDegree.Q6 != \"<1years\") &\n",
    "              (Kaggle_NDegree.Q6 != \"3-5 years\")&\n",
    "              (Kaggle_NDegree.Q6 != \"I have never written code\")]"
   ]
  },
  {
   "cell_type": "code",
   "execution_count": null,
   "metadata": {
    "_kg_hide-input": true
   },
   "outputs": [],
   "source": [
    "fig, ax = plt.subplots(1,1, figsize=(10,6))\n",
    "XP=MostXP.Q5.value_counts().sort_values(ascending=False).to_frame()\n",
    "ax=sns.barplot(data=XP,x=XP.index,y='Q5',palette=\"viridis\")\n",
    "ax.set_title('Current job with coding experince greater then 5 years',fontsize=14, fontweight='bold')\n",
    "\n",
    "ax.set_xlabel('Current role')\n",
    "ax.set_ylabel('Number of Particpents')\n",
    "ax.set_xticklabels(ax.get_xticklabels(),rotation=90)\n",
    "for p in ax.patches:\n",
    "    ax.annotate(format(p.get_height(), '1.0f'), \n",
    "                   (p.get_x() + p.get_width() / 2., p.get_height()), \n",
    "                   ha = 'center', va = 'center', \n",
    "                   xytext = (0, 9), \n",
    "                   textcoords = 'offset points')\n",
    "for s in ['top', 'left', 'right', 'bottom']:\n",
    "    ax.spines[s].set_visible(False)"
   ]
  },
  {
   "cell_type": "code",
   "execution_count": null,
   "metadata": {
    "_kg_hide-input": true
   },
   "outputs": [],
   "source": [
    "fig, ax = plt.subplots(1,1, figsize=(15,15))\n",
    "\n",
    "MostXP1=MostXP[(MostXP.Q5 != \"Student\")&(MostXP.Q5 != \"Other\")&(MostXP.Q5 != \"Currently not employed\")]\n",
    "Kaggle1=Kaggle_WDegree[(Kaggle_WDegree.Q5 != \"Student\")&(Kaggle_WDegree.Q5 != \"Other\")&(Kaggle_WDegree.Q5 != \"Currently not employed\")]\n",
    "Kaggle1=Kaggle1[(Kaggle1.Q6 != \"1-2 years\") &\n",
    "              (Kaggle1.Q6 != \"< 1 years\") &\n",
    "              (Kaggle1.Q6 != \"3-5 years\")&\n",
    "              (Kaggle1.Q6 != \"I have never written code\")]\n",
    "XP=MostXP1.Q5.value_counts(normalize=True).sort_values(ascending=False).to_frame()\n",
    "XP1=Kaggle1.Q5.value_counts(normalize=True).sort_values(ascending=False).to_frame()\n",
    "ax=sns.barplot(data=XP,y='Q5',x=XP.index,color=\"#006699\",label='Without Degree')\n",
    "ax=sns.barplot(data=-XP1,y='Q5',x=XP1.index,color=\"#ff3333\",label='With Degree')\n",
    "\n",
    "ax.set_ylabel('')\n",
    "ax.set_xlabel('')\n",
    "ax.set_title('Participants more Experenc in Coding',fontsize=21, fontweight='bold')\n",
    "ax.set_xticklabels(ax.get_xticklabels(),rotation=90)\n",
    "for s in ['top', 'left', 'right', 'bottom']:\n",
    "    ax.spines[s].set_visible(False)\n",
    "#annotate\n",
    "for p in ax.patches:\n",
    "    ax.annotate('{:.1f}%'.format(abs(100*p.get_height())), \n",
    "                   (p.get_x() + p.get_width() / 2.,p.get_height()), \n",
    "                   ha = 'center', va = 'center', \n",
    "                   xytext = (0,6), \n",
    "                   textcoords = 'offset points')\n",
    "ax.set_yticks([])    \n",
    "ax.legend(loc='lower right');\n",
    "\n"
   ]
  },
  {
   "cell_type": "code",
   "execution_count": null,
   "metadata": {
    "_kg_hide-input": true
   },
   "outputs": [],
   "source": [
    "fig, ax = plt.subplots(1,1, figsize=(15,15))\n",
    "Kaggle_NXP=Kaggle_NDegree[(Kaggle_NDegree.Q5 != \"Student\")&(Kaggle_NDegree.Q5 != \"Other\")&(Kaggle_NDegree.Q5 != \"Currently not employed\")]\n",
    "Kaggle_NXP=Kaggle_NXP[(Kaggle_NXP.Q6 == \"1-2 years\") |\n",
    "              (Kaggle_NXP.Q6 == \"< 1 years\") |\n",
    "              (Kaggle_NXP.Q6 == \"3-5 years\")|\n",
    "              (Kaggle_NXP.Q6 == \"I have never written code\")]\n",
    "\n",
    "Kaggle_WXP=Kaggle_WDegree[(Kaggle_WDegree.Q5 != \"Student\")&(Kaggle_WDegree.Q5 != \"Other\")&(Kaggle_WDegree.Q5 != \"Currently not employed\")]\n",
    "Kaggle_WXP=Kaggle_WXP[(Kaggle_WXP.Q6 == \"1-2 years\") |\n",
    "              (Kaggle_WXP.Q6 == \"< 1 years\") |\n",
    "              (Kaggle_WXP.Q6 == \"3-5 years\")|\n",
    "              (Kaggle_WXP.Q6 == \"I have never written code\")]\n",
    "\n",
    "XP=Kaggle_NXP.Q5.value_counts(normalize=True).sort_values(ascending=False).to_frame()\n",
    "XP1=Kaggle_WXP.Q5.value_counts(normalize=True).sort_values(ascending=False).to_frame()\n",
    "ax=sns.barplot(data=XP,y='Q5',x=XP.index,color=\"#006699\",label='Without Degree')\n",
    "ax=sns.barplot(data=-XP1,y='Q5',x=XP1.index,color=\"#ff3333\",label='With Degree')\n",
    "\n",
    "ax.set_ylabel('')\n",
    "ax.set_xlabel('')\n",
    "ax.set_title('Participants With Degree and Without Degree with less Experence in coding',fontsize=21, fontweight='bold')\n",
    "ax.set_xticklabels(ax.get_xticklabels(),rotation=90)\n",
    "for s in ['top', 'left', 'right', 'bottom']:\n",
    "    ax.spines[s].set_visible(False)\n",
    "#annotate\n",
    "for p in ax.patches:\n",
    "    ax.annotate('{:.1f}%'.format(abs(100*p.get_height())), \n",
    "                   (p.get_x() + p.get_width() / 2.,p.get_height()), \n",
    "                   ha = 'center', va = 'center', \n",
    "                   xytext = (0,6), \n",
    "                   textcoords = 'offset points')\n",
    "ax.set_yticks([])    \n",
    "ax.legend(loc='lower right');"
   ]
  },
  {
   "cell_type": "code",
   "execution_count": null,
   "metadata": {
    "_kg_hide-input": true
   },
   "outputs": [],
   "source": [
    "fig, ax = plt.subplots(1,1, figsize=(15,15))\n",
    "Kaggle_NXP=Kaggle_NDegree[(Kaggle_NDegree.Q5 != \"Student\")&(Kaggle_NDegree.Q5 != \"Other\")&(Kaggle_NDegree.Q5 != \"Currently not employed\")]\n",
    "Kaggle_NXP=Kaggle_NXP[(Kaggle_NXP.Q6 == \"1-2 years\") |\n",
    "              (Kaggle_NXP.Q6 == \"< 1 years\") |\n",
    "              (Kaggle_NXP.Q6 == \"3-5 years\")|\n",
    "              (Kaggle_NXP.Q6 == \"I have never written code\")]\n",
    "\n",
    "Kaggle_NoXP=Kaggle_NDegree[(Kaggle_NDegree.Q5 != \"Student\")&(Kaggle_NDegree.Q5 != \"Other\")&(Kaggle_NDegree.Q5 != \"Currently not employed\")]\n",
    "Kaggle_NoXP=Kaggle_NoXP[(Kaggle_NoXP.Q6 != \"1-2 years\") &\n",
    "              (Kaggle_NoXP.Q6 != \"< 1 years\") &\n",
    "              (Kaggle_NoXP.Q6 != \"3-5 years\")&\n",
    "              (Kaggle_NoXP.Q6 != \"I have never written code\")]\n",
    "XP=Kaggle_NXP.Q5.value_counts(normalize=True).sort_values(ascending=False).to_frame()\n",
    "XP1=Kaggle1.Q5.value_counts(normalize=True).sort_values(ascending=False).to_frame()\n",
    "ax=sns.barplot(data=XP,y='Q5',x=XP.index,color=\"#006699\",alpha=0.8,label='Less Coding XP')\n",
    "ax=sns.barplot(data=-XP1,y='Q5',x=XP1.index,color=\"#ff3333\",alpha=0.8,label='More Coding XP')\n",
    "\n",
    "\n",
    "\n",
    "\n",
    "ax.set_ylabel('')\n",
    "ax.set_xlabel('')\n",
    "ax.set_title('Participants without Degree with current job',fontsize=21, fontweight='bold')\n",
    "ax.set_xticklabels(ax.get_xticklabels(),rotation=90)\n",
    "for s in ['top', 'left', 'right', 'bottom']:\n",
    "    ax.spines[s].set_visible(False)\n",
    "#annotate\n",
    "for p in ax.patches:\n",
    "    ax.annotate('{:.1f}%'.format(abs(100*p.get_height())), \n",
    "                   (p.get_x() + p.get_width() / 2.,p.get_height()), \n",
    "                   ha = 'center', va = 'center', \n",
    "                   xytext = (0,6), \n",
    "                   textcoords = 'offset points')\n",
    "ax.set_yticks([])    \n",
    "ax.legend(loc='lower right');"
   ]
  },
  {
   "cell_type": "code",
   "execution_count": null,
   "metadata": {
    "_kg_hide-input": true
   },
   "outputs": [],
   "source": [
    "Unemployed=round(Kaggle_NDegree.Q5.value_counts(normalize=True).loc[\"Currently not employed\"]*100,2)\n",
    "\n",
    "employed=round(Kaggle_WDegree.Q5.value_counts(normalize=True).loc[\"Currently not employed\"]*100,2)\n",
    "[{\"Unemployed without Degree\":Unemployed,\"Unemployed with Degree\":employed}]"
   ]
  },
  {
   "cell_type": "code",
   "execution_count": null,
   "metadata": {},
   "outputs": [],
   "source": [
    "D=Kaggle\n",
    "D.Q4[(D.Q4 == \"Doctoral degree\") |\n",
    "              (D.Q4 == \"Master’s degree\") |\n",
    "              (D.Q4 == \"Bachelor’s degree\")|\n",
    "              (D.Q4 == \"Professional degree\")] = 'With Degree'\n",
    "\n",
    "D.Q4[D.Q4 != \"With Degree\"] = 'Without Degree'\n",
    "\n",
    "# fig, ax = plt.subplots(figsize=(10,5))\n",
    "# ax=sns.histplot(D, x=\"Q1\", kde=True, hue='Q4', palette=\"mako\",discrete=True,)\n",
    "# ax.set(title='Age Group of Participants with Degree and without Degree', xlabel='',ylabel='');"
   ]
  },
  {
   "cell_type": "code",
   "execution_count": null,
   "metadata": {},
   "outputs": [],
   "source": [
    "import pycountry \n",
    "Map=Kaggle_NDegree.Q3.value_counts().to_frame()\n",
    "def alpha3code(column):\n",
    "    CODE=[]\n",
    "    for country in column:\n",
    "      if country !='Other': \n",
    "        try:\n",
    "            code=pycountry.countries.search_fuzzy(country)[0].alpha_3\n",
    "           # .alpha_3 means 3-letter country code \n",
    "           # .alpha_2 means 2-letter country code\n",
    "            CODE.append(code)\n",
    "        except:\n",
    "            CODE.append('None')\n",
    "      else:\n",
    "        CODE.append('Other')\n",
    "    return CODE\n",
    "# create a column for code \n",
    "Map['CODE']=alpha3code(Map.index)\n",
    "Map.head()\n"
   ]
  },
  {
   "cell_type": "code",
   "execution_count": null,
   "metadata": {},
   "outputs": [],
   "source": [
    "pycountry.countries.search_fuzzy('Other')\n"
   ]
  },
  {
   "cell_type": "code",
   "execution_count": null,
   "metadata": {},
   "outputs": [],
   "source": [
    "\n",
    "import geopandas\n",
    "world = geopandas.read_file(geopandas.datasets.get_path('naturalearth_lowres'))\n",
    "# rename the columns so that we can merge with our data\n",
    "world.columns=['pop_est', 'continent', 'name', 'CODE', 'gdp_md_est', 'geometry']\n",
    "# then merge with our data \n",
    "merge=pd.merge(world,Map,on='CODE').sort_values(by='Q3',ascending=True)\n",
    "merge.head()"
   ]
  },
  {
   "cell_type": "code",
   "execution_count": null,
   "metadata": {},
   "outputs": [],
   "source": [
    "location=pd.read_csv('https://raw.githubusercontent.com/melanieshi0120/COVID-19_global_time_series_panel_data/master/data/countries_latitude_longitude.csv')\n",
    "merge=merge.merge(location,on='name').reset_index()\n",
    "merge.head()\n"
   ]
  },
  {
   "cell_type": "code",
   "execution_count": null,
   "metadata": {},
   "outputs": [],
   "source": [
    "merge.plot(column='Q3', scheme=\"quantiles\",\n",
    "           figsize=(25, 20),\n",
    "           legend=True,cmap='viridis' )\n",
    "plt.title('2020 Participantas with No Formal Degree',fontsize=25)\n",
    "# add countries names and numbers \n",
    "for i in range(0,45):\n",
    "    plt.text(float(merge.longitude[i]),float(merge.latitude[i]),\"{}\\n{}\".format(merge.name[i],merge.Q3[i]),size=10)"
   ]
  }
 ],
 "metadata": {
  "kernelspec": {
   "display_name": "Python 3",
   "language": "python",
   "name": "python3"
  }
 },
 "nbformat": 4,
 "nbformat_minor": 4
}
